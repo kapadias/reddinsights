{
 "cells": [
  {
   "cell_type": "markdown",
   "metadata": {},
   "source": [
    "#### Stream Reddit data into Google Cloud Platform"
   ]
  },
  {
   "cell_type": "code",
   "execution_count": null,
   "metadata": {},
   "outputs": [],
   "source": [
    "# import dependent libraries\n",
    "import datetime\n",
    "import praw\n",
    "import pandas as pd\n",
    "import json\n",
    "import os\n",
    "from google.cloud import storage\n",
    "import time\n",
    "\n",
    "with open('config.text') as json_file:  \n",
    "    data = json.load(json_file)\n",
    "\n",
    "# reddit API connection\n",
    "reddit = praw.Reddit(client_id=data['client_id'],\n",
    "                     client_secret=data['client_secret'],\n",
    "                     user_agent=data['user_agent'],\n",
    "                     username=data['username'],\n",
    "                     password=data['password'])\n",
    "\n",
    "def upload_blob(bucket_name, source_file_name, destination_blob_name):\n",
    "    \"\"\"Uploads a file to the bucket.\"\"\"\n",
    "    storage_client = storage.Client()\n",
    "    bucket = storage_client.get_bucket(bucket_name)\n",
    "    blob = bucket.blob(destination_blob_name)\n",
    "\n",
    "    blob.upload_from_filename(source_file_name)\n",
    "\n",
    "    print('File {} uploaded to {}.'.format(\n",
    "        source_file_name,\n",
    "        destination_blob_name))"
   ]
  },
  {
   "cell_type": "markdown",
   "metadata": {},
   "source": [
    "#### Obtain a Subreddit\n",
    "\n",
    "To obtain a Subreddit instance, pass the subreddit’s name when calling subreddit on your Reddit instance."
   ]
  },
  {
   "cell_type": "code",
   "execution_count": null,
   "metadata": {},
   "outputs": [],
   "source": [
    "# assume you have a Reddit instance bound to variable `reddit`\n",
    "subreddit = reddit.subreddit('galaxys10')\n",
    "\n",
    "print(subreddit.display_name)\n",
    "print(subreddit.title) "
   ]
  },
  {
   "cell_type": "code",
   "execution_count": null,
   "metadata": {},
   "outputs": [],
   "source": [
    "topics_dict = {'submission_id':[],\n",
    "               'user_id':[],\n",
    "               'submission_timestamp':[],\n",
    "               'title':[],\n",
    "               'body':[]}\n",
    "count = 0\n",
    "for submission in subreddit.stream.submissions():\n",
    "    topics_dict['submission_id'].append(submission.id)\n",
    "    topics_dict['user_id'].append(submission.author)\n",
    "    topics_dict['submission_timestamp'].append(submission.created_utc)\n",
    "    topics_dict['title'].append(submission.title.encode('utf-8').strip())\n",
    "    topics_dict['body'].append(submission.selftext.encode('utf-8').strip())\n",
    "    print 'post detected'\n",
    "    print 'current counter: ' + str(count)\n",
    "    if count == 50:\n",
    "        pd.DataFrame(topics_dict).to_csv('./temp_blob.csv', index=False, doublequote=True, sep='|')\n",
    "        upload_blob('raw_dataset', 'temp_blob.csv', \n",
    "                    'reddit/raw_posts/reddit_galaxys10_post_stream_' + str(int(time.time())) + '.csv')\n",
    "        count = 0\n",
    "\n",
    "    count += 1"
   ]
  },
  {
   "cell_type": "code",
   "execution_count": null,
   "metadata": {},
   "outputs": [],
   "source": []
  }
 ],
 "metadata": {
  "kernelspec": {
   "display_name": "Python 2",
   "language": "python",
   "name": "python2"
  },
  "language_info": {
   "codemirror_mode": {
    "name": "ipython",
    "version": 2
   },
   "file_extension": ".py",
   "mimetype": "text/x-python",
   "name": "python",
   "nbconvert_exporter": "python",
   "pygments_lexer": "ipython2",
   "version": "2.7.15"
  }
 },
 "nbformat": 4,
 "nbformat_minor": 2
}
